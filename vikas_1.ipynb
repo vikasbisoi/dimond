{
 "cells": [
  {
   "cell_type": "code",
   "execution_count": 15,
   "metadata": {},
   "outputs": [],
   "source": [
    "import pandas as pd\n",
    "import numpy as np\n",
    "import seaborn as sb\n",
    "import matplotlib.pyplot as plt\n",
    "import numpy as np"
   ]
  },
  {
   "cell_type": "code",
   "execution_count": null,
   "metadata": {},
   "outputs": [],
   "source": []
  },
  {
   "cell_type": "code",
   "execution_count": null,
   "metadata": {},
   "outputs": [],
   "source": []
  },
  {
   "cell_type": "code",
   "execution_count": 20,
   "metadata": {},
   "outputs": [
    {
     "name": "stdout",
     "output_type": "stream",
     "text": [
      "Enter The Path of your dataset with extension:D:/diamonds-m.csv\n",
      "D:/diamonds-m.csv\n"
     ]
    }
   ],
   "source": [
    "pd.set_option(\"display.max_columns\",None)\n",
    "path=input(\"Enter The Path of your dataset with extension:\")\n",
    "print(path)"
   ]
  },
  {
   "cell_type": "code",
   "execution_count": 21,
   "metadata": {},
   "outputs": [
    {
     "name": "stdout",
     "output_type": "stream",
     "text": [
      "   id  carat      cut color clarity popularity  depth  table  price     x  \\\n",
      "0   1   0.23    Ideal     E     SI2       Good   61.5   55.0  326.0  3.95   \n",
      "1   2   0.21  Premium     E     SI1       Good   59.8   61.0  326.0  3.89   \n",
      "2   3   0.23     Good     E     VS1       Fair   56.9   65.0  327.0  4.05   \n",
      "3   4   0.29  Premium     I     VS2       Poor   62.4   58.0  334.0  4.20   \n",
      "4   5   0.31     Good     J     SI2       Good   63.3   58.0  335.0  4.34   \n",
      "\n",
      "      y     z  \n",
      "0  3.98  2.43  \n",
      "1  3.84  2.31  \n",
      "2  4.07  2.31  \n",
      "3  4.23  2.63  \n",
      "4  4.35  2.75  \n"
     ]
    }
   ],
   "source": [
    "if path.endswith(\".csv\"):\n",
    "    df= pd.read_csv (path) \n",
    "    print(df.head())\n",
    "elif path.endswith(\".xlsx\"):\n",
    "    df= pd.read_excel(path) \n",
    "    print(df.head())\n",
    "elif path.endswith(\".txt\"):\n",
    "    df= pd.read(path) \n",
    "    print(df.head())\n",
    "    \n",
    "    "
   ]
  },
  {
   "cell_type": "code",
   "execution_count": 12,
   "metadata": {},
   "outputs": [
    {
     "ename": "FileNotFoundError",
     "evalue": "[Errno 2] File b'\"D:/diamonds-m.csv\"' does not exist: b'\"D:/diamonds-m.csv\"'",
     "output_type": "error",
     "traceback": [
      "\u001b[1;31m---------------------------------------------------------------------------\u001b[0m",
      "\u001b[1;31mFileNotFoundError\u001b[0m                         Traceback (most recent call last)",
      "\u001b[1;32m<ipython-input-12-592655a5a7a3>\u001b[0m in \u001b[0;36m<module>\u001b[1;34m\u001b[0m\n\u001b[1;32m----> 1\u001b[1;33m \u001b[0mdf\u001b[0m\u001b[1;33m=\u001b[0m \u001b[0mpd\u001b[0m\u001b[1;33m.\u001b[0m\u001b[0mread_csv\u001b[0m \u001b[1;33m(\u001b[0m\u001b[0mpath\u001b[0m\u001b[1;33m)\u001b[0m\u001b[1;33m\u001b[0m\u001b[1;33m\u001b[0m\u001b[0m\n\u001b[0m\u001b[0;32m      2\u001b[0m \u001b[0mprint\u001b[0m\u001b[1;33m(\u001b[0m\u001b[0mdf\u001b[0m\u001b[1;33m.\u001b[0m\u001b[0mhead\u001b[0m\u001b[1;33m(\u001b[0m\u001b[1;33m)\u001b[0m\u001b[1;33m)\u001b[0m\u001b[1;33m\u001b[0m\u001b[1;33m\u001b[0m\u001b[0m\n",
      "\u001b[1;32m~\\Anaconda3\\lib\\site-packages\\pandas\\io\\parsers.py\u001b[0m in \u001b[0;36mparser_f\u001b[1;34m(filepath_or_buffer, sep, delimiter, header, names, index_col, usecols, squeeze, prefix, mangle_dupe_cols, dtype, engine, converters, true_values, false_values, skipinitialspace, skiprows, skipfooter, nrows, na_values, keep_default_na, na_filter, verbose, skip_blank_lines, parse_dates, infer_datetime_format, keep_date_col, date_parser, dayfirst, iterator, chunksize, compression, thousands, decimal, lineterminator, quotechar, quoting, doublequote, escapechar, comment, encoding, dialect, tupleize_cols, error_bad_lines, warn_bad_lines, delim_whitespace, low_memory, memory_map, float_precision)\u001b[0m\n\u001b[0;32m    700\u001b[0m                     skip_blank_lines=skip_blank_lines)\n\u001b[0;32m    701\u001b[0m \u001b[1;33m\u001b[0m\u001b[0m\n\u001b[1;32m--> 702\u001b[1;33m         \u001b[1;32mreturn\u001b[0m \u001b[0m_read\u001b[0m\u001b[1;33m(\u001b[0m\u001b[0mfilepath_or_buffer\u001b[0m\u001b[1;33m,\u001b[0m \u001b[0mkwds\u001b[0m\u001b[1;33m)\u001b[0m\u001b[1;33m\u001b[0m\u001b[1;33m\u001b[0m\u001b[0m\n\u001b[0m\u001b[0;32m    703\u001b[0m \u001b[1;33m\u001b[0m\u001b[0m\n\u001b[0;32m    704\u001b[0m     \u001b[0mparser_f\u001b[0m\u001b[1;33m.\u001b[0m\u001b[0m__name__\u001b[0m \u001b[1;33m=\u001b[0m \u001b[0mname\u001b[0m\u001b[1;33m\u001b[0m\u001b[1;33m\u001b[0m\u001b[0m\n",
      "\u001b[1;32m~\\Anaconda3\\lib\\site-packages\\pandas\\io\\parsers.py\u001b[0m in \u001b[0;36m_read\u001b[1;34m(filepath_or_buffer, kwds)\u001b[0m\n\u001b[0;32m    427\u001b[0m \u001b[1;33m\u001b[0m\u001b[0m\n\u001b[0;32m    428\u001b[0m     \u001b[1;31m# Create the parser.\u001b[0m\u001b[1;33m\u001b[0m\u001b[1;33m\u001b[0m\u001b[1;33m\u001b[0m\u001b[0m\n\u001b[1;32m--> 429\u001b[1;33m     \u001b[0mparser\u001b[0m \u001b[1;33m=\u001b[0m \u001b[0mTextFileReader\u001b[0m\u001b[1;33m(\u001b[0m\u001b[0mfilepath_or_buffer\u001b[0m\u001b[1;33m,\u001b[0m \u001b[1;33m**\u001b[0m\u001b[0mkwds\u001b[0m\u001b[1;33m)\u001b[0m\u001b[1;33m\u001b[0m\u001b[1;33m\u001b[0m\u001b[0m\n\u001b[0m\u001b[0;32m    430\u001b[0m \u001b[1;33m\u001b[0m\u001b[0m\n\u001b[0;32m    431\u001b[0m     \u001b[1;32mif\u001b[0m \u001b[0mchunksize\u001b[0m \u001b[1;32mor\u001b[0m \u001b[0miterator\u001b[0m\u001b[1;33m:\u001b[0m\u001b[1;33m\u001b[0m\u001b[1;33m\u001b[0m\u001b[0m\n",
      "\u001b[1;32m~\\Anaconda3\\lib\\site-packages\\pandas\\io\\parsers.py\u001b[0m in \u001b[0;36m__init__\u001b[1;34m(self, f, engine, **kwds)\u001b[0m\n\u001b[0;32m    893\u001b[0m             \u001b[0mself\u001b[0m\u001b[1;33m.\u001b[0m\u001b[0moptions\u001b[0m\u001b[1;33m[\u001b[0m\u001b[1;34m'has_index_names'\u001b[0m\u001b[1;33m]\u001b[0m \u001b[1;33m=\u001b[0m \u001b[0mkwds\u001b[0m\u001b[1;33m[\u001b[0m\u001b[1;34m'has_index_names'\u001b[0m\u001b[1;33m]\u001b[0m\u001b[1;33m\u001b[0m\u001b[1;33m\u001b[0m\u001b[0m\n\u001b[0;32m    894\u001b[0m \u001b[1;33m\u001b[0m\u001b[0m\n\u001b[1;32m--> 895\u001b[1;33m         \u001b[0mself\u001b[0m\u001b[1;33m.\u001b[0m\u001b[0m_make_engine\u001b[0m\u001b[1;33m(\u001b[0m\u001b[0mself\u001b[0m\u001b[1;33m.\u001b[0m\u001b[0mengine\u001b[0m\u001b[1;33m)\u001b[0m\u001b[1;33m\u001b[0m\u001b[1;33m\u001b[0m\u001b[0m\n\u001b[0m\u001b[0;32m    896\u001b[0m \u001b[1;33m\u001b[0m\u001b[0m\n\u001b[0;32m    897\u001b[0m     \u001b[1;32mdef\u001b[0m \u001b[0mclose\u001b[0m\u001b[1;33m(\u001b[0m\u001b[0mself\u001b[0m\u001b[1;33m)\u001b[0m\u001b[1;33m:\u001b[0m\u001b[1;33m\u001b[0m\u001b[1;33m\u001b[0m\u001b[0m\n",
      "\u001b[1;32m~\\Anaconda3\\lib\\site-packages\\pandas\\io\\parsers.py\u001b[0m in \u001b[0;36m_make_engine\u001b[1;34m(self, engine)\u001b[0m\n\u001b[0;32m   1120\u001b[0m     \u001b[1;32mdef\u001b[0m \u001b[0m_make_engine\u001b[0m\u001b[1;33m(\u001b[0m\u001b[0mself\u001b[0m\u001b[1;33m,\u001b[0m \u001b[0mengine\u001b[0m\u001b[1;33m=\u001b[0m\u001b[1;34m'c'\u001b[0m\u001b[1;33m)\u001b[0m\u001b[1;33m:\u001b[0m\u001b[1;33m\u001b[0m\u001b[1;33m\u001b[0m\u001b[0m\n\u001b[0;32m   1121\u001b[0m         \u001b[1;32mif\u001b[0m \u001b[0mengine\u001b[0m \u001b[1;33m==\u001b[0m \u001b[1;34m'c'\u001b[0m\u001b[1;33m:\u001b[0m\u001b[1;33m\u001b[0m\u001b[1;33m\u001b[0m\u001b[0m\n\u001b[1;32m-> 1122\u001b[1;33m             \u001b[0mself\u001b[0m\u001b[1;33m.\u001b[0m\u001b[0m_engine\u001b[0m \u001b[1;33m=\u001b[0m \u001b[0mCParserWrapper\u001b[0m\u001b[1;33m(\u001b[0m\u001b[0mself\u001b[0m\u001b[1;33m.\u001b[0m\u001b[0mf\u001b[0m\u001b[1;33m,\u001b[0m \u001b[1;33m**\u001b[0m\u001b[0mself\u001b[0m\u001b[1;33m.\u001b[0m\u001b[0moptions\u001b[0m\u001b[1;33m)\u001b[0m\u001b[1;33m\u001b[0m\u001b[1;33m\u001b[0m\u001b[0m\n\u001b[0m\u001b[0;32m   1123\u001b[0m         \u001b[1;32melse\u001b[0m\u001b[1;33m:\u001b[0m\u001b[1;33m\u001b[0m\u001b[1;33m\u001b[0m\u001b[0m\n\u001b[0;32m   1124\u001b[0m             \u001b[1;32mif\u001b[0m \u001b[0mengine\u001b[0m \u001b[1;33m==\u001b[0m \u001b[1;34m'python'\u001b[0m\u001b[1;33m:\u001b[0m\u001b[1;33m\u001b[0m\u001b[1;33m\u001b[0m\u001b[0m\n",
      "\u001b[1;32m~\\Anaconda3\\lib\\site-packages\\pandas\\io\\parsers.py\u001b[0m in \u001b[0;36m__init__\u001b[1;34m(self, src, **kwds)\u001b[0m\n\u001b[0;32m   1851\u001b[0m         \u001b[0mkwds\u001b[0m\u001b[1;33m[\u001b[0m\u001b[1;34m'usecols'\u001b[0m\u001b[1;33m]\u001b[0m \u001b[1;33m=\u001b[0m \u001b[0mself\u001b[0m\u001b[1;33m.\u001b[0m\u001b[0musecols\u001b[0m\u001b[1;33m\u001b[0m\u001b[1;33m\u001b[0m\u001b[0m\n\u001b[0;32m   1852\u001b[0m \u001b[1;33m\u001b[0m\u001b[0m\n\u001b[1;32m-> 1853\u001b[1;33m         \u001b[0mself\u001b[0m\u001b[1;33m.\u001b[0m\u001b[0m_reader\u001b[0m \u001b[1;33m=\u001b[0m \u001b[0mparsers\u001b[0m\u001b[1;33m.\u001b[0m\u001b[0mTextReader\u001b[0m\u001b[1;33m(\u001b[0m\u001b[0msrc\u001b[0m\u001b[1;33m,\u001b[0m \u001b[1;33m**\u001b[0m\u001b[0mkwds\u001b[0m\u001b[1;33m)\u001b[0m\u001b[1;33m\u001b[0m\u001b[1;33m\u001b[0m\u001b[0m\n\u001b[0m\u001b[0;32m   1854\u001b[0m         \u001b[0mself\u001b[0m\u001b[1;33m.\u001b[0m\u001b[0munnamed_cols\u001b[0m \u001b[1;33m=\u001b[0m \u001b[0mself\u001b[0m\u001b[1;33m.\u001b[0m\u001b[0m_reader\u001b[0m\u001b[1;33m.\u001b[0m\u001b[0munnamed_cols\u001b[0m\u001b[1;33m\u001b[0m\u001b[1;33m\u001b[0m\u001b[0m\n\u001b[0;32m   1855\u001b[0m \u001b[1;33m\u001b[0m\u001b[0m\n",
      "\u001b[1;32mpandas/_libs/parsers.pyx\u001b[0m in \u001b[0;36mpandas._libs.parsers.TextReader.__cinit__\u001b[1;34m()\u001b[0m\n",
      "\u001b[1;32mpandas/_libs/parsers.pyx\u001b[0m in \u001b[0;36mpandas._libs.parsers.TextReader._setup_parser_source\u001b[1;34m()\u001b[0m\n",
      "\u001b[1;31mFileNotFoundError\u001b[0m: [Errno 2] File b'\"D:/diamonds-m.csv\"' does not exist: b'\"D:/diamonds-m.csv\"'"
     ]
    }
   ],
   "source": []
  },
  {
   "cell_type": "markdown",
   "metadata": {},
   "source": [
    "## 1 . What is structure of the dataset .  \n"
   ]
  },
  {
   "cell_type": "code",
   "execution_count": 22,
   "metadata": {},
   "outputs": [
    {
     "name": "stdout",
     "output_type": "stream",
     "text": [
      "The Strucure of the dataset is: (53940, 12)\n"
     ]
    }
   ],
   "source": [
    "print(\"The Strucure of the dataset is:\",df.shape)"
   ]
  },
  {
   "cell_type": "markdown",
   "metadata": {},
   "source": [
    " ##  2 . What are the datatype of each columns?  \n"
   ]
  },
  {
   "cell_type": "code",
   "execution_count": 23,
   "metadata": {},
   "outputs": [
    {
     "data": {
      "text/plain": [
       "id              int64\n",
       "carat         float64\n",
       "cut            object\n",
       "color          object\n",
       "clarity        object\n",
       "popularity     object\n",
       "depth         float64\n",
       "table         float64\n",
       "price         float64\n",
       "x             float64\n",
       "y             float64\n",
       "z             float64\n",
       "dtype: object"
      ]
     },
     "execution_count": 23,
     "metadata": {},
     "output_type": "execute_result"
    }
   ],
   "source": [
    "df.dtypes"
   ]
  },
  {
   "cell_type": "markdown",
   "metadata": {},
   "source": [
    "## 3. What is the length of alpha numeric columns "
   ]
  },
  {
   "cell_type": "code",
   "execution_count": null,
   "metadata": {},
   "outputs": [],
   "source": [
    "df.iloc[1].str.isalnum()"
   ]
  },
  {
   "cell_type": "code",
   "execution_count": null,
   "metadata": {},
   "outputs": [],
   "source": [
    "df.iloc[[100]]"
   ]
  },
  {
   "cell_type": "code",
   "execution_count": null,
   "metadata": {},
   "outputs": [],
   "source": [
    "df.iloc[:1]"
   ]
  },
  {
   "cell_type": "code",
   "execution_count": null,
   "metadata": {},
   "outputs": [],
   "source": [
    "df.ix[1]"
   ]
  },
  {
   "cell_type": "code",
   "execution_count": 24,
   "metadata": {},
   "outputs": [
    {
     "name": "stdout",
     "output_type": "stream",
     "text": [
      "yes\n"
     ]
    }
   ],
   "source": [
    "\n",
    "if(df[\"color\"].dtype==object):\n",
    "    print(\"yes\")"
   ]
  },
  {
   "cell_type": "code",
   "execution_count": 36,
   "metadata": {},
   "outputs": [
    {
     "name": "stdout",
     "output_type": "stream",
     "text": [
      "Index(['id', 'carat', 'cut', 'color', 'clarity', 'popularity', 'depth',\n",
      "       'table', 'price', 'x', 'y', 'z'],\n",
      "      dtype='object')\n"
     ]
    }
   ],
   "source": [
    "column_name=df.columns\n",
    "print(column_name)\n",
    "len(column_name)\n",
    "list1=[]"
   ]
  },
  {
   "cell_type": "code",
   "execution_count": 32,
   "metadata": {},
   "outputs": [
    {
     "name": "stdout",
     "output_type": "stream",
     "text": [
      "no\n"
     ]
    }
   ],
   "source": [
    "if(df[column_name[1]].dtype==object):\n",
    "    print(\"yes\");\n",
    "else:\n",
    "    print(\"no\")"
   ]
  },
  {
   "cell_type": "code",
   "execution_count": 37,
   "metadata": {},
   "outputs": [
    {
     "name": "stdout",
     "output_type": "stream",
     "text": [
      "[2, 3, 4, 5]\n"
     ]
    }
   ],
   "source": [
    "for i in range(0,len(column_name)):\n",
    "    if(df[column_name[i]].dtype==object):\n",
    "         list1.append(i)\n",
    "print(list1)\n"
   ]
  },
  {
   "cell_type": "code",
   "execution_count": 42,
   "metadata": {},
   "outputs": [
    {
     "name": "stdout",
     "output_type": "stream",
     "text": [
      "0            Ideal\n",
      "1          Premium\n",
      "2             Good\n",
      "3          Premium\n",
      "4             Good\n",
      "5        Very Good\n",
      "6        Very Good\n",
      "7        Very Good\n",
      "8             Fair\n",
      "9        Very Good\n",
      "10            Good\n",
      "11           Ideal\n",
      "12         Premium\n",
      "13           Ideal\n",
      "14         Premium\n",
      "15         Premium\n",
      "16           Ideal\n",
      "17            Good\n",
      "18            Good\n",
      "19       Very Good\n",
      "20            Good\n",
      "21       Very Good\n",
      "22       Very Good\n",
      "23       Very Good\n",
      "24       Very Good\n",
      "25       Very Good\n",
      "26         Premium\n",
      "27       Very Good\n",
      "28       Very Good\n",
      "29       Very Good\n",
      "           ...    \n",
      "53910      Premium\n",
      "53911      Premium\n",
      "53912      Premium\n",
      "53913         Good\n",
      "53914         Good\n",
      "53915        Ideal\n",
      "53916         Good\n",
      "53917    Very Good\n",
      "53918      Premium\n",
      "53919        Ideal\n",
      "53920    Very Good\n",
      "53921    Very Good\n",
      "53922    Very Good\n",
      "53923        Ideal\n",
      "53924        Ideal\n",
      "53925      Unknown\n",
      "53926        Ideal\n",
      "53927         Good\n",
      "53928      Premium\n",
      "53929        Ideal\n",
      "53930      Premium\n",
      "53931      Premium\n",
      "53932    Very Good\n",
      "53933    Very Good\n",
      "53934      Premium\n",
      "53935        Ideal\n",
      "53936         Good\n",
      "53937    Very Good\n",
      "53938      Premium\n",
      "53939        Ideal\n",
      "Name: cut, Length: 53940, dtype: object\n",
      "0          E\n",
      "1          E\n",
      "2          E\n",
      "3          I\n",
      "4          J\n",
      "5          J\n",
      "6          I\n",
      "7          H\n",
      "8          E\n",
      "9          H\n",
      "10         J\n",
      "11         J\n",
      "12         F\n",
      "13         J\n",
      "14         E\n",
      "15         E\n",
      "16         I\n",
      "17         J\n",
      "18         J\n",
      "19         J\n",
      "20         I\n",
      "21         E\n",
      "22         H\n",
      "23         J\n",
      "24         J\n",
      "25         G\n",
      "26         I\n",
      "27         J\n",
      "28         D\n",
      "29         F\n",
      "        ... \n",
      "53910      E\n",
      "53911      E\n",
      "53912      F\n",
      "53913      G\n",
      "53914      I\n",
      "53915      E\n",
      "53916      D\n",
      "53917      J\n",
      "53918      I\n",
      "53919    NaN\n",
      "53920      E\n",
      "53921      E\n",
      "53922      D\n",
      "53923      I\n",
      "53924      I\n",
      "53925      I\n",
      "53926      E\n",
      "53927      F\n",
      "53928      E\n",
      "53929      G\n",
      "53930      E\n",
      "53931      F\n",
      "53932      E\n",
      "53933      E\n",
      "53934      D\n",
      "53935      D\n",
      "53936      D\n",
      "53937      D\n",
      "53938      H\n",
      "53939      D\n",
      "Name: color, Length: 53940, dtype: object\n",
      "0         SI2\n",
      "1         SI1\n",
      "2         VS1\n",
      "3         VS2\n",
      "4         SI2\n",
      "5        VVS2\n",
      "6         VS1\n",
      "7         SI1\n",
      "8         VS2\n",
      "9         VS1\n",
      "10        SI1\n",
      "11        VS1\n",
      "12        SI1\n",
      "13        SI2\n",
      "14        SI2\n",
      "15         I1\n",
      "16        SI2\n",
      "17        SI1\n",
      "18        SI1\n",
      "19        SI1\n",
      "20        SI2\n",
      "21        VS2\n",
      "22        VS1\n",
      "23        SI1\n",
      "24        SI1\n",
      "25       VVS2\n",
      "26        VS1\n",
      "27        VS2\n",
      "28        VS2\n",
      "29        VS1\n",
      "         ... \n",
      "53910     SI1\n",
      "53911      IF\n",
      "53912    VVS1\n",
      "53913     VS2\n",
      "53914     VS1\n",
      "53915     SI2\n",
      "53916     SI1\n",
      "53917     SI1\n",
      "53918     VS1\n",
      "53919    VVS1\n",
      "53920     VS2\n",
      "53921     VS2\n",
      "53922     VS1\n",
      "53923     VS2\n",
      "53924     VS2\n",
      "53925     SI1\n",
      "53926     SI1\n",
      "53927     SI1\n",
      "53928     SI2\n",
      "53929     VS1\n",
      "53930     SI1\n",
      "53931     SI1\n",
      "53932     VS2\n",
      "53933     VS2\n",
      "53934     SI1\n",
      "53935     SI1\n",
      "53936     SI1\n",
      "53937     SI1\n",
      "53938     SI2\n",
      "53939     SI2\n",
      "Name: clarity, Length: 53940, dtype: object\n",
      "0        Good\n",
      "1        Good\n",
      "2        Fair\n",
      "3        Poor\n",
      "4        Good\n",
      "5        Poor\n",
      "6        Fair\n",
      "7        Good\n",
      "8        Poor\n",
      "9        Fair\n",
      "10       Good\n",
      "11       Fair\n",
      "12       Good\n",
      "13       Good\n",
      "14       Good\n",
      "15        NaN\n",
      "16       Good\n",
      "17       Good\n",
      "18       Good\n",
      "19       Good\n",
      "20       Good\n",
      "21       Poor\n",
      "22       Fair\n",
      "23       Good\n",
      "24       Good\n",
      "25       Poor\n",
      "26       Fair\n",
      "27       Poor\n",
      "28       Poor\n",
      "29       Fair\n",
      "         ... \n",
      "53910    Good\n",
      "53911    Good\n",
      "53912    Poor\n",
      "53913    Poor\n",
      "53914    Fair\n",
      "53915    Good\n",
      "53916    Good\n",
      "53917    Good\n",
      "53918    Fair\n",
      "53919    Poor\n",
      "53920    Poor\n",
      "53921    Poor\n",
      "53922    Fair\n",
      "53923    Poor\n",
      "53924    Poor\n",
      "53925    Good\n",
      "53926    Good\n",
      "53927    Good\n",
      "53928    Good\n",
      "53929    Fair\n",
      "53930    Good\n",
      "53931    Good\n",
      "53932    Poor\n",
      "53933    Poor\n",
      "53934    Good\n",
      "53935    Good\n",
      "53936    Good\n",
      "53937    Good\n",
      "53938    Good\n",
      "53939    Good\n",
      "Name: popularity, Length: 53940, dtype: object\n"
     ]
    }
   ],
   "source": [
    "for i in list1:\n",
    "     obj=df.iloc[:,i]\n",
    "     print(obj)"
   ]
  },
  {
   "cell_type": "code",
   "execution_count": null,
   "metadata": {},
   "outputs": [],
   "source": [
    "obj.str.isalnum()"
   ]
  },
  {
   "cell_type": "code",
   "execution_count": null,
   "metadata": {},
   "outputs": [],
   "source": [
    "df.iloc[:,6].str.isalnum().sum()"
   ]
  },
  {
   "cell_type": "code",
   "execution_count": null,
   "metadata": {},
   "outputs": [],
   "source": [
    "df.iloc[:,2].str.isalnum()"
   ]
  },
  {
   "cell_type": "code",
   "execution_count": null,
   "metadata": {},
   "outputs": [],
   "source": [
    "df.iloc[:,3].str.isalnum().sum()"
   ]
  },
  {
   "cell_type": "code",
   "execution_count": null,
   "metadata": {},
   "outputs": [],
   "source": [
    "df.iloc[:,4].str.isalnum().sum()"
   ]
  },
  {
   "cell_type": "code",
   "execution_count": null,
   "metadata": {},
   "outputs": [],
   "source": [
    "df.iloc[:,5].str.isalnum().sum()"
   ]
  },
  {
   "cell_type": "code",
   "execution_count": null,
   "metadata": {},
   "outputs": [],
   "source": [
    "df.iloc[:,3]"
   ]
  },
  {
   "cell_type": "code",
   "execution_count": null,
   "metadata": {},
   "outputs": [],
   "source": [
    "df"
   ]
  },
  {
   "cell_type": "code",
   "execution_count": null,
   "metadata": {},
   "outputs": [],
   "source": []
  }
 ],
 "metadata": {
  "kernelspec": {
   "display_name": "Python 3",
   "language": "python",
   "name": "python3"
  },
  "language_info": {
   "codemirror_mode": {
    "name": "ipython",
    "version": 3
   },
   "file_extension": ".py",
   "mimetype": "text/x-python",
   "name": "python",
   "nbconvert_exporter": "python",
   "pygments_lexer": "ipython3",
   "version": "3.7.3"
  }
 },
 "nbformat": 4,
 "nbformat_minor": 2
}
